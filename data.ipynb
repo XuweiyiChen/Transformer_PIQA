{
 "cells": [
  {
   "cell_type": "code",
   "execution_count": null,
   "metadata": {},
   "outputs": [],
   "source": [
    "from datasets import load_dataset\n",
    "\n",
    "dataset = load_dataset(\"piqa\")"
   ]
  }
 ],
 "metadata": {
  "kernelspec": {
   "display_name": "Python 3.8.10",
   "language": "python",
   "name": "python3"
  },
  "language_info": {
   "name": "python",
   "version": "3.8.10"
  },
  "orig_nbformat": 4,
  "vscode": {
   "interpreter": {
    "hash": "9a634c4e811e8028b0867ad3ea4fabac76d8ba8ff4e8cd076ab174f30b5fdcd0"
   }
  }
 },
 "nbformat": 4,
 "nbformat_minor": 2
}
